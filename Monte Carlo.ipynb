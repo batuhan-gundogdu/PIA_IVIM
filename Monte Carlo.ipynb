{
 "cells": [
  {
   "cell_type": "markdown",
   "metadata": {},
   "source": [
    "# Monte Carlo Simulations for NLLS"
   ]
  },
  {
   "cell_type": "code",
   "execution_count": 1,
   "metadata": {},
   "outputs": [],
   "source": [
    "from utils import get_batch, fit_biExponential_model_signal, read_data\n",
    "from tqdm import tqdm\n",
    "import numpy as np"
   ]
  },
  {
   "cell_type": "code",
   "execution_count": 18,
   "metadata": {},
   "outputs": [],
   "source": [
    "file_dir='../public_training_data/'\n",
    "fname_gt ='_IVIMParam.npy'\n",
    "fname_gtDWI ='_gtDWIs.npy'\n",
    "fname_tissue ='_TissueType.npy'\n",
    "fname_noisyDWIk = '_NoisyDWIk.npy'\n",
    "\n",
    "b_values = [0, 5, 50, 100, 200, 500, 800, 1000]\n",
    "test_tensor, D_test, D_star_test, f_test, clean = get_batch(10, noise_sdt=0.01)\n",
    "test = test_tensor.detach().cpu().numpy()\n",
    "f, D, D_star = fit_biExponential_model_signal(test, b_values)"
   ]
  },
  {
   "cell_type": "code",
   "execution_count": null,
   "metadata": {},
   "outputs": [],
   "source": [
    "for image_number in tqdm(range(1, 3)):\n",
    "    params = read_data(file_dir, fname_gt, image_number)\n",
    "    k = read_data(file_dir, fname_noisyDWIk, image_number)\n",
    "    tissue = read_data(file_dir, fname_tissue, image_number)\n",
    "    clean = read_data(file_dir, fname_gtDWI, image_number)\n",
    "    clean_real = np.real(clean[:, :, 0])\n",
    "    noisy = np.abs(np.fft.ifft2(k, axes=(0,1) ,norm='ortho'))\n",
    "    coordBody = np.argwhere(clean > 0)\n",
    "    #pure_noise_re[b_value].append(noisy_real[coordBody[:,0], coordBody[:,1]] - clean_real[coordBody[:,0], coordBody[:,1]])\n",
    "    #f_measurement = params[:, :, 0]\n",
    "    #D_measurement = params[:, :, 1]\n",
    "    #D_star_measurement = params[:, :, 2]\n",
    "    #\n",
    "    #f.append(f_measurement[coordBody[:,0], coordBody[:,1]])\n",
    "    #D.append(D_measurement[coordBody[:,0], coordBody[:,1]])\n",
    "    #D_star.append(D_star_measurement[coordBody[:,0], coordBody[:,1]])\n",
    "\n",
    "\n",
    "# f = np.concatenate(f).ravel()\n",
    "# a = plt.hist(f, bins=100)\n",
    "# plt.title('f')\n",
    "\n",
    "# plt.figure()\n",
    "# D = np.concatenate(D).ravel()\n",
    "# a = plt.hist(D, bins=100)\n",
    "# plt.title('D')\n",
    "\n",
    "# plt.figure()\n",
    "# D_star = np.concatenate(D_star).ravel()\n",
    "# a = plt.hist(D_star, bins=100)\n",
    "# plt.title('D_star')"
   ]
  }
 ],
 "metadata": {
  "kernelspec": {
   "display_name": "torch_env",
   "language": "python",
   "name": "python3"
  },
  "language_info": {
   "codemirror_mode": {
    "name": "ipython",
    "version": 3
   },
   "file_extension": ".py",
   "mimetype": "text/x-python",
   "name": "python",
   "nbconvert_exporter": "python",
   "pygments_lexer": "ipython3",
   "version": "3.6.15"
  }
 },
 "nbformat": 4,
 "nbformat_minor": 2
}
